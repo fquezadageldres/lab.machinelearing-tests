{
 "cells": [
  {
   "cell_type": "code",
   "execution_count": 1,
   "metadata": {},
   "outputs": [],
   "source": [
    "import numpy as np\n",
    "import pandas as pd\n",
    "import seaborn as sns\n",
    "import matplotlib.pyplot as plt\n",
    "\n",
    "from tensorflow import keras\n",
    "from tensorflow.python.keras.callbacks import TensorBoard\n",
    "\n",
    "from time import time\n",
    "from sklearn.model_selection import train_test_split"
   ]
  },
  {
   "cell_type": "code",
   "execution_count": 17,
   "metadata": {},
   "outputs": [],
   "source": [
    "#df = pd.read_csv('family_height_galton.csv', sep=',') #Leemos el archivo con los datos\n",
    "#df.drop(['index', 'children', 'family','childNum','midparentHeight'], axis='columns', inplace=True) #Elimino columnas\n",
    "#df.gender.replace({'female':0,'male':1}, inplace = True) #Cambiamos 'gender' en valor binario (0,1)\n",
    "\n",
    "#df.to_csv(r'db_family_height_galton.csv', index=False) #exportamos nuevo dataframe a CSV"
   ]
  },
  {
   "cell_type": "code",
   "execution_count": 2,
   "metadata": {
    "scrolled": false
   },
   "outputs": [
    {
     "name": "stdout",
     "output_type": "stream",
     "text": [
      "       Hijas   Hijos \n",
      "Madre  0.323   0.305\n",
      "Padre  0.392   0.428\n"
     ]
    },
    {
     "data": {
      "text/plain": [
       "[Text(0.5, 0, 'Altura Hijo (Cm)')]"
      ]
     },
     "execution_count": 2,
     "metadata": {},
     "output_type": "execute_result"
    },
    {
     "data": {
      "image/png": "[encoded data removed]",
      "text/plain": [
       "<Figure size 576x360 with 4 Axes>"
      ]
     },
     "metadata": {
      "needs_background": "light"
     },
     "output_type": "display_data"
    }
   ],
   "source": [
    "data = pd.read_csv('db_family_height_galton.csv') #Leemos el archivo con los datos\n",
    "\n",
    "#sns.set_style('darkgrid')\n",
    "\n",
    "#g = sns.pairplot(data, hue = 'gender', diag_kind='hist')\n",
    "#for ax in g.axes.flat:\n",
    "#    plt.setp(ax.get_xticklabels(),rotation=45)\n",
    "\n",
    "hijas = data.loc[data['gender'] == 1]\n",
    "hijos = data.loc[data['gender'] == 0]\n",
    "\n",
    "\n",
    "\n",
    "madre_hija = np.corrcoef(hijas['childHeight'], hijas['mother'])[0, 1]\n",
    "padre_hija = np.corrcoef(hijas['childHeight'], hijas['father'])[0, 1]\n",
    "madre_hijo = np.corrcoef(hijos['childHeight'], hijos['mother'])[0, 1]\n",
    "padre_hijo = np.corrcoef(hijos['childHeight'], hijos['father'])[0, 1]\n",
    "\n",
    "print('       Hijas   Hijos \\nMadre  ' \n",
    "      + str(\"{0:.3f}\".format(madre_hija)) + '   ' + str(\"{0:.3f}\".format(madre_hijo)) +\n",
    "     '\\nPadre  ' + str(\"{0:.3f}\".format(padre_hija)) + '   ' + str(\"{0:.3f}\".format(padre_hijo)))\n",
    "\n",
    "fig, axs = plt.subplots(2, 2, figsize=(8, 5))\n",
    "axs[0, 0].scatter(hijas['childHeight'] / 0.393701, hijas['mother'] / 0.393701, c='r')\n",
    "axs[0, 0].set(ylabel='Altura Madre (Cm)')\n",
    "axs[0, 1].scatter(hijos['childHeight'] / 0.393701, hijos['mother'] / 0.393701, c='b')\n",
    "axs[1, 0].scatter(hijas['childHeight'] / 0.393701, hijas['father'] / 0.393701, c='r')\n",
    "axs[1, 0].set(ylabel='Altura Padre (Cm)')\n",
    "axs[1, 0].set(xlabel='Altura Hija (Cm)')\n",
    "axs[1, 1].scatter(hijos['childHeight'] / 0.393701, hijos['father'] / 0.393701, c='b')\n",
    "axs[1, 1].set(xlabel='Altura Hijo (Cm)')\n",
    "\n",
    "\n"
   ]
  },
  {
   "cell_type": "code",
   "execution_count": 126,
   "metadata": {},
   "outputs": [
    {
     "name": "stdout",
     "output_type": "stream",
     "text": [
      "   father  mother  gender  childHeight\n",
      "0    78.5    67.0       1         73.2\n",
      "1    78.5    67.0       0         69.2\n"
     ]
    }
   ],
   "source": [
    "X = data.loc[:, 'father':'gender']\n",
    "y = data.loc[:,'childHeight']\n",
    "\n",
    "X_train, X_test, y_train, y_test = train_test_split(X, y, test_size=0.33, random_state=42) #Dividimos los datos\n",
    "\n",
    "print(data.head(2))"
   ]
  },
  {
   "cell_type": "code",
   "execution_count": 129,
   "metadata": {},
   "outputs": [],
   "source": [
    "model = keras.Sequential([\n",
    "    keras.layers.Dense(10, activation = 'relu', input_shape = (3,)),\n",
    "    keras.layers.Dense(5, activation = 'relu'),\n",
    "    keras.layers.Dense(1)\n",
    "])\n",
    "\n",
    "#ADAM =  keras.optimizers.ADAM(lr = 0.001)\n",
    "model.compile(optimizer='Adam', loss = 'mean_squared_error')"
   ]
  },
  {
   "cell_type": "code",
   "execution_count": 136,
   "metadata": {},
   "outputs": [
    {
     "name": "stdout",
     "output_type": "stream",
     "text": [
      "WARNING:tensorflow:Falling back from v2 loop because of error: Failed to find data adapter that can handle input: <class 'pandas.core.frame.DataFrame'>, <class 'NoneType'>\n",
      "WARNING:tensorflow:Falling back from v2 loop because of error: Failed to find data adapter that can handle input: <class 'pandas.core.frame.DataFrame'>, <class 'NoneType'>\n",
      "934/934 [==============================] - 0s 170us/sample - loss: 4.8185\n"
     ]
    },
    {
     "data": {
      "text/plain": [
       "4.818458820691201"
      ]
     },
     "execution_count": 136,
     "metadata": {},
     "output_type": "execute_result"
    }
   ],
   "source": [
    "tensorboard = TensorBoard(log_dir=\"logs\\{}\".format(time()))\n",
    "\n",
    "model.fit(X_train, y_train, epochs = 400, verbose = 0, callbacks = [tensorboard])\n",
    "model.evaluate(X, y, batch_size=10)"
   ]
  },
  {
   "cell_type": "code",
   "execution_count": 137,
   "metadata": {},
   "outputs": [
    {
     "name": "stdout",
     "output_type": "stream",
     "text": [
      "1.74 Mts\n"
     ]
    }
   ],
   "source": [
    "Padre = 168\n",
    "Madre = 170\n",
    "Sexo = 1\n",
    "\n",
    "test_data = np.array([Padre * 0.393701, Madre * 0.393701, Sexo])\n",
    "print(str((int((model.predict(test_data.reshape(1,3), batch_size = 1)) / 0.393701) / 100)) + \" Mts\")"
   ]
  },
  {
   "cell_type": "code",
   "execution_count": 138,
   "metadata": {},
   "outputs": [],
   "source": [
    "model.save('model_predict_height_from_parent_keras.h5')"
   ]
  },
  {
   "cell_type": "code",
   "execution_count": null,
   "metadata": {},
   "outputs": [],
   "source": []
  }
 ],
 "metadata": {
  "kernelspec": {
   "display_name": "Python 3",
   "language": "python",
   "name": "python3"
  },
  "language_info": {
   "codemirror_mode": {
    "name": "ipython",
    "version": 3
   },
   "file_extension": ".py",
   "mimetype": "text/x-python",
   "name": "python",
   "nbconvert_exporter": "python",
   "pygments_lexer": "ipython3",
   "version": "3.7.5"
  }
 },
 "nbformat": 4,
 "nbformat_minor": 2
}
