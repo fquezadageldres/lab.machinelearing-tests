{
 "cells": [
  {
   "cell_type": "code",
   "execution_count": 10,
   "metadata": {},
   "outputs": [],
   "source": [
    "import numpy as np\n",
    "import pandas as pd\n",
    "from sklearn.model_selection import train_test_split\n",
    "from sklearn.feature_extraction import DictVectorizer\n",
    "from sklearn.tree import DecisionTreeClassifier"
   ]
  },
  {
   "cell_type": "code",
   "execution_count": 11,
   "metadata": {},
   "outputs": [],
   "source": [
    "df = pd.read_csv('gender_from_names_datasets.csv') #Leemos el archivo con los datos\n",
    "df.drop(['year', 'percent'], axis='columns', inplace=True) #Elimino columnas\n",
    "df['name'] = df.name.str.lower() #Dejamos en minusculas los nombres\n",
    "df.columns = ['name','gender'] #Cambia el nombre de las columnas\n",
    "df.gender.replace({'girl':0,'boy':1},inplace=True) #Cambiamos el output en valor binario (0,1)\n",
    "df = df.drop_duplicates() #Borramos duplicados\n",
    "data = df\n",
    "\n",
    "#data.to_csv(r'names_with_gender.csv', index=False) #exportamos nuevo dataframe a CSV"
   ]
  },
  {
   "cell_type": "code",
   "execution_count": 12,
   "metadata": {},
   "outputs": [],
   "source": [
    "#Diseccionamos el nombre para administrarlo con el Decision Tree\n",
    "def features(name):\n",
    "    name = name.lower()\n",
    "    return {\n",
    "        'first-letter': name[0], # First letter\n",
    "        'first2-letters': name[0:2], # First 2 letters\n",
    "        'first3-letters': name[0:3], # First 3 letters\n",
    "        'last-letter': name[-1],\n",
    "        'last2-letters': name[-2:],\n",
    "        'last3-letters': name[-3:],\n",
    "    }"
   ]
  },
  {
   "cell_type": "code",
   "execution_count": 13,
   "metadata": {},
   "outputs": [],
   "source": [
    "features = np.vectorize(features) #Vectorizamos el nombre diseccionado\n",
    "df_X = features(data['name']) #Convertimos en Input los nuevos vectores diseccionados\n",
    "df_y = data['gender'] #Determinamos el output"
   ]
  },
  {
   "cell_type": "code",
   "execution_count": 14,
   "metadata": {},
   "outputs": [
    {
     "name": "stdout",
     "output_type": "stream",
     "text": [
      "[{'first-letter': 'j', 'first2-letters': 'ju', 'first3-letters': 'jua', 'last-letter': 'n', 'last2-letters': 'an', 'last3-letters': 'uan'}]\n"
     ]
    }
   ],
   "source": [
    "#Ejemplificamos un vector\n",
    "corpus = features([\"Juan\"])\n",
    "dv = DictVectorizer()\n",
    "dv.fit(corpus)\n",
    "transformed = dv.transform(corpus)\n",
    "print(corpus)"
   ]
  },
  {
   "cell_type": "code",
   "execution_count": 71,
   "metadata": {},
   "outputs": [],
   "source": [
    "#dv.get_feature_names() #Como quedaria vectorizado"
   ]
  },
  {
   "cell_type": "code",
   "execution_count": 15,
   "metadata": {},
   "outputs": [
    {
     "data": {
      "text/plain": [
       "DecisionTreeClassifier(class_weight=None, criterion='gini', max_depth=None,\n",
       "                       max_features=None, max_leaf_nodes=None,\n",
       "                       min_impurity_decrease=0.0, min_impurity_split=None,\n",
       "                       min_samples_leaf=1, min_samples_split=2,\n",
       "                       min_weight_fraction_leaf=0.0, presort=False,\n",
       "                       random_state=None, splitter='best')"
      ]
     },
     "execution_count": 15,
     "metadata": {},
     "output_type": "execute_result"
    }
   ],
   "source": [
    "dfX_train, dfX_test, dfy_train, dfy_test = train_test_split(df_X, df_y, test_size=0.33, random_state=42) #Dividimos los datos\n",
    "dv = DictVectorizer()\n",
    "dv.fit_transform(dfX_train)\n",
    "\n",
    "dclf = DecisionTreeClassifier() #Asignamos el algortimo a una variable\n",
    "my_xfeatures = dv.transform(dfX_train) #Transformamos el input a vectores con los datos\n",
    "dclf.fit(my_xfeatures, dfy_train) #Entrenamos el modelo"
   ]
  },
  {
   "cell_type": "code",
   "execution_count": 18,
   "metadata": {},
   "outputs": [],
   "source": [
    "#Creamos una funcion para predecir\n",
    "def predict(a):\n",
    "    test_name1 = [a.lower()]\n",
    "    transform_dv = dv.transform(features(test_name1))\n",
    "    vector = transform_dv.toarray()\n",
    "    if dclf.predict(vector) == 0:\n",
    "        print(\"Femenino\")\n",
    "    else:\n",
    "        print(\"Masculino\")"
   ]
  },
  {
   "cell_type": "code",
   "execution_count": 24,
   "metadata": {},
   "outputs": [
    {
     "name": "stdout",
     "output_type": "stream",
     "text": [
      "Femenino\n"
     ]
    }
   ],
   "source": [
    "predict('Sharazade') #LLamamos a la funcion de prediccion"
   ]
  },
  {
   "cell_type": "code",
   "execution_count": 44,
   "metadata": {},
   "outputs": [
    {
     "name": "stdout",
     "output_type": "stream",
     "text": [
      "Train % = 0.9367240688826592\n",
      "Test % = 0.7013409183258837\n"
     ]
    }
   ],
   "source": [
    "#print(\"Train % = \" + str(dclf.score(dv.transform(dfX_train), dfy_train))) #% de certeza con datos de entrenamiento\n",
    "#print(\"Test % = \" + str(dclf.score(dv.transform(dfX_test), dfy_test))) #% de certeza con datos de test"
   ]
  },
  {
   "cell_type": "code",
   "execution_count": 92,
   "metadata": {},
   "outputs": [
    {
     "name": "stderr",
     "output_type": "stream",
     "text": [
      "d:\\develop\\virtualenv\\ve_ml\\lib\\site-packages\\sklearn\\externals\\joblib\\__init__.py:15: DeprecationWarning: sklearn.externals.joblib is deprecated in 0.21 and will be removed in 0.23. Please import this functionality directly from joblib, which can be installed with: pip install joblib. If this warning is raised when loading pickled models, you may need to re-serialize those models with scikit-learn 0.21+.\n",
      "  warnings.warn(msg, category=DeprecationWarning)\n"
     ]
    },
    {
     "data": {
      "text/plain": [
       "<function BufferedWriter.close>"
      ]
     },
     "execution_count": 92,
     "metadata": {},
     "output_type": "execute_result"
    }
   ],
   "source": [
    "#from sklearn.externals import joblib\n",
    "\n",
    "#decisiontreModel = open(\"Predcit_Gender_From_Names_DTree.pkl\",\"wb\")\n",
    "#joblib.dump(dclf,decisiontreModel)\n",
    "#decisiontreModel.close"
   ]
  },
  {
   "cell_type": "code",
   "execution_count": null,
   "metadata": {},
   "outputs": [],
   "source": []
  }
 ],
 "metadata": {
  "kernelspec": {
   "display_name": "Python 3",
   "language": "python",
   "name": "python3"
  },
  "language_info": {
   "codemirror_mode": {
    "name": "ipython",
    "version": 3
   },
   "file_extension": ".py",
   "mimetype": "text/x-python",
   "name": "python",
   "nbconvert_exporter": "python",
   "pygments_lexer": "ipython3",
   "version": "3.7.5"
  }
 },
 "nbformat": 4,
 "nbformat_minor": 2
}
