{
 "cells": [
  {
   "cell_type": "code",
   "execution_count": 103,
   "metadata": {},
   "outputs": [],
   "source": [
    "import numpy as np\n",
    "import pandas as pd\n",
    "from sklearn.feature_extraction.text import CountVectorizer"
   ]
  },
  {
   "cell_type": "code",
   "execution_count": 104,
   "metadata": {},
   "outputs": [],
   "source": [
    "df = pd.read_csv('gender_from_names_datasets.csv') #Leemos el archivo con los datos\n",
    "\n",
    "df.drop(['year', 'percent'], axis='columns', inplace=True) #Elimino columnas\n",
    "\n",
    "df['name'] = df.name.str.lower() #Dejamos en minusculas los nombres\n",
    "\n",
    "df.columns = ['name','gender'] #Cambia el nombre de las columnas\n",
    "\n",
    "df.gender.replace({'girl':0,'boy':1},inplace=True) #Cambiamos el output en valor binario (0,1)\n",
    "\n",
    "df = df.drop_duplicates() #Borramos duplicados\n",
    "\n",
    "data = df"
   ]
  },
  {
   "cell_type": "code",
   "execution_count": 105,
   "metadata": {},
   "outputs": [],
   "source": [
    "x_input = data['name'] #Seleccionamos solo la columna con nombres\n",
    "\n",
    "cv = CountVectorizer() #Definimos la funcion de CountVectorizer\n",
    "\n",
    "X = cv.fit_transform(x_input) #Convertimos en un diccionario los nombres\n",
    "\n",
    "#cv.get_feature_names() #Mostramos los datos"
   ]
  },
  {
   "cell_type": "code",
   "execution_count": 111,
   "metadata": {},
   "outputs": [],
   "source": [
    "from sklearn.model_selection import train_test_split  #Llamamos la funcion de division del dataset\n",
    "\n",
    "X #Input\n",
    "\n",
    "y = data.gender #Output\n",
    "\n",
    "X_train, X_test, y_train, y_test = train_test_split(X, y, test_size=0.33, random_state=42)"
   ]
  },
  {
   "cell_type": "code",
   "execution_count": 112,
   "metadata": {},
   "outputs": [
    {
     "name": "stdout",
     "output_type": "stream",
     "text": [
      "Accuracy of Model 94.13295955146175 %\n",
      "Accuracy of Model 47.05404307192198 %\n"
     ]
    }
   ],
   "source": [
    "from sklearn.naive_bayes import MultinomialNB #importamos algortimo \n",
    "\n",
    "clf = MultinomialNB() #Guardamos algortimo en una variable\n",
    "\n",
    "clf.fit(X_train,y_train) #Entrenamos el modelo con el algoritmo\n",
    "\n",
    "print(\"Accuracy of Model\",clf.score(X_train,y_train)*100,\"%\") #Precicion del modelo con train_data\n",
    "\n",
    "print(\"Accuracy of Model\",clf.score(X_test,y_test)*100,\"%\") #Precicion del modelo con test_data"
   ]
  },
  {
   "cell_type": "code",
   "execution_count": 127,
   "metadata": {},
   "outputs": [],
   "source": [
    "def predict(a):\n",
    "    test_name = [a.lower()]\n",
    "    vector = cv.transform(test_name).toarray()\n",
    "    if clf.predict(vector) == 0:\n",
    "        print(\"Femenino\")\n",
    "    else:\n",
    "        print(\"Masculino\")"
   ]
  },
  {
   "cell_type": "code",
   "execution_count": 128,
   "metadata": {},
   "outputs": [
    {
     "name": "stdout",
     "output_type": "stream",
     "text": [
      "Femenino\n"
     ]
    }
   ],
   "source": [
    "predict(\"Alejandra\")"
   ]
  },
  {
   "cell_type": "code",
   "execution_count": 129,
   "metadata": {},
   "outputs": [],
   "source": [
    "from sklearn.externals import joblib\n",
    "\n",
    "NaiveBayesModel = open(\"predict_gender_from_names_MulNB.pkl\",\"wb\")\n",
    "joblib.dump(clf,NaiveBayesModel)\n",
    "NaiveBayesModel.close()"
   ]
  },
  {
   "cell_type": "code",
   "execution_count": null,
   "metadata": {},
   "outputs": [],
   "source": []
  }
 ],
 "metadata": {
  "kernelspec": {
   "display_name": "Python 3",
   "language": "python",
   "name": "python3"
  },
  "language_info": {
   "codemirror_mode": {
    "name": "ipython",
    "version": 3
   },
   "file_extension": ".py",
   "mimetype": "text/x-python",
   "name": "python",
   "nbconvert_exporter": "python",
   "pygments_lexer": "ipython3",
   "version": "3.7.5"
  }
 },
 "nbformat": 4,
 "nbformat_minor": 2
}
